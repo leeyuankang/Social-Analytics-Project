{
 "cells": [
  {
   "cell_type": "markdown",
   "metadata": {},
   "source": [
    "# Twitter Crawler "
   ]
  },
  {
   "cell_type": "markdown",
   "metadata": {},
   "source": [
    "## Import Libraries"
   ]
  },
  {
   "cell_type": "code",
   "execution_count": 1,
   "metadata": {},
   "outputs": [],
   "source": [
    "import tweepy\n",
    "import csv\n",
    "from tweepy import OAuthHandler"
   ]
  },
  {
   "cell_type": "markdown",
   "metadata": {},
   "source": [
    "## Determine output file name and twitter access code"
   ]
  },
  {
   "cell_type": "code",
   "execution_count": 2,
   "metadata": {},
   "outputs": [],
   "source": [
    "output_file = './data/chinatradewar_tweets.csv'\n",
    "\n",
    "# YK's Code\n",
    "consumer_key    = 'xjYZsoUMQC5NuLpHENDAR0TVm'\n",
    "consumer_secret = 'W6l7yeS7AI8ZfQSEtkBBIID9Uv2zCgX2q5TPoZykiUKJa5QdFn'\n",
    "access_token    = '1168774617281912832-MY3EbsImXQbrkfaOxb1VEJ5tWWn4BK'\n",
    "access_secret   = 'vzh3KPViXm0201CbNjVaG0hOJV7hKv3FSCspzCEtJhNwa' \n",
    "\n",
    "# Darren's Code\n",
    "# consumer_key    = 'g6KDuWXcSWxDmkZIdlQVNanrR'\n",
    "# consumer_secret = '4U5ceThn0ihOTUcUXjyhclab86kI3h9vWXWCCYDtOXUZqPqXJY'\n",
    "# access_token    = '1112632162413510656-6F2FGTig1pN0R737tSPMEkzPvzZ2F4'\n",
    "# access_secret   = 'SqRM99877qyQAUO2ai453nWBVJb8A6kSzEdCpedzkuuur'"
   ]
  },
  {
   "cell_type": "markdown",
   "metadata": {},
   "source": [
    "## Tweepy"
   ]
  },
  {
   "cell_type": "markdown",
   "metadata": {},
   "source": [
    "### Set Authentication"
   ]
  },
  {
   "cell_type": "code",
   "execution_count": 3,
   "metadata": {},
   "outputs": [],
   "source": [
    "# Consumer/Access key/secret/token obtained from Twitter\n",
    "# You should have created a Twitter app and gotten these keys.\n",
    "# Do NOT share your key/secret/token with other students.\n",
    "\n",
    "# The following two lines create an authorization object with your above authentication info.\n",
    "auth = OAuthHandler(consumer_key, consumer_secret)\n",
    "auth.set_access_token(access_token, access_secret)\n",
    "\n",
    "# This line finally calls Twitter's Rest API.\n",
    "api = tweepy.API(auth)"
   ]
  },
  {
   "cell_type": "markdown",
   "metadata": {},
   "source": [
    "## Crawling using search term"
   ]
  },
  {
   "cell_type": "code",
   "execution_count": 5,
   "metadata": {},
   "outputs": [
    {
     "name": "stdout",
     "output_type": "stream",
     "text": [
      "----------------------------------------------------\n",
      "Tweet by: @mikelking\n",
      "====================================================\n",
      "       RT @rodponce: Farmer: I won't vote for Trump again without an end to high tariffs, trade \n",
      "war with China #chinatradewar #bhivenectar https:…\n",
      "----------------------------------------------------\n",
      "Tweet by: @rodponce\n",
      "====================================================\n",
      "       Farmer: I won't vote for Trump again without an end to high tariffs, trade \n",
      "war with China #chinatradewar… https://t.co/PiBg35Cwdg\n",
      "----------------------------------------------------\n",
      "Tweet by: @ElOsoPapa\n",
      "====================================================\n",
      "       WAKE UP PEOPLE! Donald Frump is doing it AGAIN! He created a crisis and now is trying to bring back 50% of normalcy… https://t.co/RTbisayIn2\n",
      "----------------------------------------------------\n",
      "Tweet by: @FiddleDeeDeeGA\n",
      "====================================================\n",
      "       Hopefully many of them feel this way! Generational farms are being lost as farmers go under thanks to the… https://t.co/4p0K271JNw\n",
      "----------------------------------------------------\n",
      "Tweet by: @rodponce\n",
      "====================================================\n",
      "       China’s Trade War Retaliation Against Trump’s Rural Base Boomerangs #chinatradewar #bhivenectar https://t.co/Q6LzPll6YZ\n",
      "----------------------------------------------------\n",
      "Tweet by: @ScofieldTrading\n",
      "====================================================\n",
      "       China Stocks starting to show some momentum to the upside? Few stocks to keep an eye on 🧐📈📉🇨🇳  $PDD $BABA $GXC $FXI… https://t.co/aNjMbDkoXo\n",
      "----------------------------------------------------\n",
      "Tweet by: @Ralph_Ire\n",
      "====================================================\n",
      "       RT @fcchk: On #US/Chinatradewar: It’s been an important story for us, says Matt Murray, Editor in Chief of @WSJ. I don’t think there’s enou…\n",
      "----------------------------------------------------\n",
      "Tweet by: @fcchk\n",
      "====================================================\n",
      "       On #US/Chinatradewar: It’s been an important story for us, says Matt Murray, Editor in Chief of @WSJ. I don’t think… https://t.co/Sopd8O7Ihi\n",
      "----------------------------------------------------\n",
      "Tweet by: @DavidCrkt_ghost\n",
      "====================================================\n",
      "       @GenFlynn When your case is dismissed we want you to lead us. Return to our ranks, and help us destroy the… https://t.co/C3MDfYk4qB\n",
      "----------------------------------------------------\n",
      "Tweet by: @kenything\n",
      "====================================================\n",
      "       RT @joyreaper: This is awesome!  #China won't buy our food but Japan will!  This will be worth billions for farmers! Jerome Powell needs to…\n",
      "----------------------------------------------------\n",
      "Tweet by: @PujaTayal\n",
      "====================================================\n",
      "       Trump's Trade War Turns Xi Jinping into a Statesman - Market Realist https://t.co/3fynfLVNDI\n",
      "@MarketRealist #Chinatradewar #TrumpXiPing\n",
      "----------------------------------------------------\n",
      "Tweet by: @lovetogive2\n",
      "====================================================\n",
      "       RT @MoistureVapor8r: @billmckibben #Sabotaging US-China #COLLABORATION on #ClimateActionNow is what #Oilygarch Putin wanted Trump to do wit…\n",
      "----------------------------------------------------\n",
      "Tweet by: @MoistureVapor8r\n",
      "====================================================\n",
      "       @tedlieu @realDonaldTrump @POTUS #Sabotaging US-China #COLLABORATION on #ClimateActionNow is what #Oilygarch Putin… https://t.co/5rhTYg9Uqi\n",
      "----------------------------------------------------\n",
      "Tweet by: @MoistureVapor8r\n",
      "====================================================\n",
      "       @billmckibben #Sabotaging US-China #COLLABORATION on #ClimateActionNow is what #Oilygarch Putin wanted Trump to do… https://t.co/DnCBjIKbsr\n",
      "----------------------------------------------------\n",
      "Tweet by: @catchyouri\n",
      "====================================================\n",
      "       Has much to do with who benefits from #FarmRelief due to #ChinaTradeWar welfare payments to offset disruption in… https://t.co/BalxOJDya1\n",
      "----------------------------------------------------\n",
      "Tweet by: @rodponce\n",
      "====================================================\n",
      "       3 reasons Midwest farmers hurt by the U.S.-China trade war still support \n",
      "Trump #chinatradewar #bhivenectar https://t.co/bZfP0GO9K3\n",
      "----------------------------------------------------\n",
      "Tweet by: @rodponce\n",
      "====================================================\n",
      "       Thousands of companies are asking for tariff exclusions even as US and \n",
      "China push to sign trade deal… https://t.co/kvhxD0gw6A\n",
      "----------------------------------------------------\n",
      "Tweet by: @MAGAnNoHate\n",
      "====================================================\n",
      "       RT @ChanelRion: NARRATIVE: #FakeNews reporting Small Businesses suffering under #ChinaTradeWar.\n",
      "\n",
      "REALITY: #AmericaFirst policies and #TaxCu…\n",
      "----------------------------------------------------\n",
      "Tweet by: @rodponce\n",
      "====================================================\n",
      "       The outcome of the US, China trade negotiations will make or break these \n",
      "stocks into year-end #chinatradewar… https://t.co/zURVRRrsa9\n",
      "----------------------------------------------------\n",
      "Tweet by: @ruffrider4vida\n",
      "====================================================\n",
      "       Nearly 40% of Farm Income is from the Federal Government 2019.#TrumpHurtsFarmers #ThisIsAmerica #trumpeconomics… https://t.co/Gz7oh2kaRQ\n",
      "----------------------------------------------------\n",
      "Tweet by: @rodponce\n",
      "====================================================\n",
      "       China Is Heading For A Long Growth Recession, Not Because Of The Trade War #chinatradewar #bhivenectar https://t.co/IHlLbvms4g\n",
      "----------------------------------------------------\n",
      "Tweet by: @rodponce\n",
      "====================================================\n",
      "       Trade War Update: 3 Charts Show Why China’s Back Is Against The Wall #chinatradewar #bhivenectar https://t.co/bilcZsWeVm\n",
      "----------------------------------------------------\n",
      "Tweet by: @rodponce\n",
      "====================================================\n",
      "       China trade war is benefiting food banks in the U.S. #chinatradewar #bhivenectar https://t.co/p0GPILPiVQ\n",
      "----------------------------------------------------\n",
      "Tweet by: @Vcpresstartnow\n",
      "====================================================\n",
      "       Wake me up when the #FederalReserve rate change is going to happen...or the #Chinatradewar is over. Which over come… https://t.co/xih6bHu2uX\n"
     ]
    }
   ],
   "source": [
    "search_terms = ['chinatradewar']\n",
    "\n",
    "# crawled_list = []\n",
    "tweet_list = []\n",
    "\n",
    "# results = api.search(q=query, lang=language)\n",
    "# This FOR loop will retrieve the latest 10 tweets - based on search term(s)\n",
    "for tweet in tweepy.Cursor(api.search, q=search_terms, lang='en').items(100000):\n",
    "    user_dict = {}\n",
    "    tweet_dict = {}\n",
    "    # print out user's screen name & tweet text\n",
    "    print(\"----------------------------------------------------\")\n",
    "    print ('Tweet by: @' + tweet.user.screen_name)\n",
    "    print(\"====================================================\")\n",
    "    print('       ' + tweet.text)\n",
    "    tweet_dict['username'] = tweet.user.screen_name\n",
    "    tweet_dict['tweet'] = tweet.text\n",
    "#     user_dict[tweet.user.screen_name] = tweet.text \n",
    "    tweet_list.append(tweet_dict)\n",
    "#     crawled_list.append(user_dict)"
   ]
  },
  {
   "cell_type": "markdown",
   "metadata": {},
   "source": [
    "### Output to CSV"
   ]
  },
  {
   "cell_type": "code",
   "execution_count": null,
   "metadata": {},
   "outputs": [],
   "source": [
    "keys = tweet_list[0].keys()\n",
    "with open(output_file, 'w', encoding='utf-8-sig') as output_file:\n",
    "    dict_writer = csv.DictWriter(output_file, keys)\n",
    "    dict_writer.writeheader()\n",
    "    dict_writer.writerows(tweet_list)"
   ]
  },
  {
   "cell_type": "markdown",
   "metadata": {},
   "source": [
    "## Twython"
   ]
  },
  {
   "cell_type": "code",
   "execution_count": null,
   "metadata": {},
   "outputs": [],
   "source": [
    "import json\n",
    "\n",
    "# Consumer/Access key/secret/token obtained from Twitter\n",
    "# You should have created a Twitter app and gotten these keys.\n",
    "# Do NOT share your key/secret/token with other students.\n",
    "\n",
    "credentials = {}\n",
    "credentials['CONSUMER_KEY'] = consumer_key\n",
    "credentials['CONSUMER_SECRET'] = consumer_secret\n",
    "credentials['ACCESS_TOKEN'] = access_token\n",
    "credentials['ACCESS_SECRET'] = access_secret\n",
    "\n",
    "# Save the credentials object to file\n",
    "with open(\"twitter_credentials.json\", \"w\") as file:\n",
    "    json.dump(credentials, file)"
   ]
  },
  {
   "cell_type": "code",
   "execution_count": null,
   "metadata": {},
   "outputs": [],
   "source": [
    "'''\n",
    "In the next step, we'll import the Twython class, instantiate an object of it, \n",
    "and create our search query.\n",
    "\n",
    "We'll use only four arguments in the query:\n",
    "   q, result_type, count and lang,\n",
    "      respectively\n",
    "   for the search keyword, type, count, and language\n",
    "      of search results.\n",
    "\n",
    "Twitter also defines other arguments to fine-tune the search query, which can be found here:\n",
    "https://developer.twitter.com/en/docs/tweets/search/api-reference/get-search-tweets.html\n",
    "'''\n",
    "\n",
    "# Import the Twython class\n",
    "from twython import Twython\n",
    "import json\n",
    "\n",
    "# Load credentials from json file\n",
    "with open(\"twitter_credentials.json\", \"r\") as file:\n",
    "    creds = json.load(file)\n",
    "\n",
    "# Instantiate an object\n",
    "python_tweets = Twython(creds['CONSUMER_KEY'], creds['CONSUMER_SECRET'])\n",
    "\n",
    "# Create our query\n",
    "query = {'q': 'chinatradewar',\n",
    "        'result_type': 'popular',\n",
    "        'count': 100,\n",
    "        'lang': 'en',\n",
    "        }"
   ]
  },
  {
   "cell_type": "code",
   "execution_count": null,
   "metadata": {},
   "outputs": [],
   "source": [
    "'''\n",
    "Finally, we can use our Twython object to call the search method, \n",
    "which returns a dictionary of search_metadata and statuses - the queried results.\n",
    "\n",
    "We'll only look at the statuses part, and save a portion of all information \n",
    "in a pandas dataframe, to present it in a table.\n",
    "'''\n",
    "\n",
    "# Check if your Anaconda Python 3.7 has \"pandas\" package\n",
    "import pandas as pd\n",
    "\n",
    "# Search tweets\n",
    "dict_ = {\n",
    "        'user': [],\n",
    "        'date': [],\n",
    "        'text': [],\n",
    "        'favorite_count': []\n",
    "        }\n",
    "\n",
    "for status in python_tweets.search(**query)['statuses']:\n",
    "    dict_['user'].append(status['user']['screen_name'])\n",
    "    dict_['date'].append(status['created_at'])\n",
    "    dict_['text'].append(status['text'])\n",
    "    dict_['favorite_count'].append(status['favorite_count'])\n",
    "\n",
    "# Structure data in a pandas DataFrame for easier manipulation\n",
    "df = pd.DataFrame(dict_)\n",
    "df.sort_values(by='favorite_count', inplace=True, ascending=False)\n",
    "df.head(5)"
   ]
  },
  {
   "cell_type": "markdown",
   "metadata": {},
   "source": [
    "### Output to CSV"
   ]
  },
  {
   "cell_type": "code",
   "execution_count": null,
   "metadata": {},
   "outputs": [],
   "source": [
    "# article_df = article_df[article_df['content'] != '']\n",
    "df.reset_index(drop=True)\n",
    "df.to_csv(output_file, encoding='utf-8-sig')"
   ]
  }
 ],
 "metadata": {
  "kernelspec": {
   "display_name": "Python 3",
   "language": "python",
   "name": "python3"
  },
  "language_info": {
   "codemirror_mode": {
    "name": "ipython",
    "version": 3
   },
   "file_extension": ".py",
   "mimetype": "text/x-python",
   "name": "python",
   "nbconvert_exporter": "python",
   "pygments_lexer": "ipython3",
   "version": "3.7.3"
  }
 },
 "nbformat": 4,
 "nbformat_minor": 2
}
