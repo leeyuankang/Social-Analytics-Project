{
 "cells": [
  {
   "cell_type": "code",
   "execution_count": 5,
   "metadata": {},
   "outputs": [],
   "source": [
    "from tweepy import Stream\n",
    "from tweepy.streaming import StreamListener\n",
    "from tweepy import OAuthHandler\n",
    "\n",
    "\n",
    "# Consumer/Access key/secret/token obtained from Twitter\n",
    "# You should have created a Twitter app and gotten these keys.\n",
    "# Do NOT share your key/secret/token with other students.\n",
    "consumer_key    = 'tBHhDtAZhQGmC1Ju1b5InzJPj'\n",
    "consumer_secret = 'oZvjWI6InaqfUvwZPJ7pxxsUCmUUyqcXq2EDW3CdqfWYNxIuRG'\n",
    "access_token    = '1168778750185459712-WQkLlXQ9JntsbNwioutVquLntnF9cZ'\n",
    "access_secret   = 'LEC2T1nudM3ylmO3GbSpLEzoNaUq83rka99IffaQYAJ5a'\n",
    "\n",
    "output_file = 'hongkongprotestFinal.csv'\n",
    "\n",
    "# This class defines MyListener class - an object of which essentially\n",
    "# keeps the connection going and keep pulling new tweets from Twitter server.\n",
    "# As it listens to newly occurring/posted tweets, it will crawl the tweets and APPEND to the above specified output file.\n",
    "class MyListener(StreamListener):\n",
    "    def on_data(self, data):\n",
    "        try:\n",
    "            # IMPORTANT: 'a' for appending to the existing file content\n",
    "            with open(output_file, 'a') as f:\n",
    "                f.write(data)\n",
    "                return True\n",
    "        except BaseException as e:\n",
    "            print(\"Error on_data: %s\" % str(e))\n",
    "        return True\n",
    "\n",
    "    def on_error(self, status):\n",
    "        print(status)\n",
    "        return True\n",
    "\n",
    "# The following two lines create an authorization object with your above authentication info.\n",
    "auth = OAuthHandler(consumer_key, consumer_secret)\n",
    "auth.set_access_token(access_token, access_secret)\n",
    "\n",
    "# This line finally calls Twitter's Streaming API.\n",
    "twitter_stream = Stream(auth, MyListener())"
   ]
  },
  {
   "cell_type": "code",
   "execution_count": null,
   "metadata": {},
   "outputs": [],
   "source": [
    "query_terms = ['Hong Kong Protest']\n",
    "twitter_stream.filter(track=query_terms)"
   ]
  },
  {
   "cell_type": "code",
   "execution_count": null,
   "metadata": {},
   "outputs": [],
   "source": []
  }
 ],
 "metadata": {
  "kernelspec": {
   "display_name": "Python 3",
   "language": "python",
   "name": "python3"
  },
  "language_info": {
   "codemirror_mode": {
    "name": "ipython",
    "version": 3
   },
   "file_extension": ".py",
   "mimetype": "text/x-python",
   "name": "python",
   "nbconvert_exporter": "python",
   "pygments_lexer": "ipython3",
   "version": "3.7.1"
  }
 },
 "nbformat": 4,
 "nbformat_minor": 2
}
