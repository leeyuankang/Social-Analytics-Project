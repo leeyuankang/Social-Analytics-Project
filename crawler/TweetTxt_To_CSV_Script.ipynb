{
 "cells": [
  {
   "cell_type": "code",
   "execution_count": 12,
   "metadata": {},
   "outputs": [],
   "source": [
    "import json\n",
    "import pandas as pd\n",
    "import matplotlib.pyplot as plt\n",
    "import re\n",
    "from collections import Counter"
   ]
  },
  {
   "cell_type": "code",
   "execution_count": 13,
   "metadata": {},
   "outputs": [
    {
     "name": "stderr",
     "output_type": "stream",
     "text": [
      "/Users/weimingsoh/anaconda3/lib/python3.7/site-packages/ipykernel_launcher.py:22: FutureWarning: The signature of `Series.to_csv` was aligned to that of `DataFrame.to_csv`, and argument 'header' will change its default value from False to True: please pass an explicit value to suppress this warning.\n"
     ]
    }
   ],
   "source": [
    "# # Specify input file\n",
    "# tweets_data_path = 'MuellerReport.txt'\n",
    "\n",
    "# # Open the file. 'r' means READ.\n",
    "# tweets_file = open(tweets_data_path, 'r')\n",
    "with open(\"MuellerReport.txt\", 'r') as tweets_file:\n",
    "    # This LIST will contain tweet objects. Initialize it to empty.\n",
    "    tweets_list = []\n",
    "\n",
    "    # Read one line at a time\n",
    "    for line in tweets_file:\n",
    "        # strip() function removes end-of-line characters at the end\n",
    "        # After removing end-of-line characters, see if the line still\n",
    "        # contains any data. If it does, len() will be > 0.\n",
    "        # If that's the case, let's save this Tweet Object into our LIST.\n",
    "        if len(line.strip()) > 0:\n",
    "            tweet = json.loads(line) # each line is a JSON object\n",
    "            if 'text' in tweet:\n",
    "                tweets_list.append(tweet)\n",
    "    tweets = pd.DataFrame()\n",
    "    tweets['text'] = list(map(lambda tweet: tweet['text'], tweets_list))\n",
    "    tweets[\"text\"].to_csv(\"MuellerReportTweets.csv\")\n"
   ]
  },
  {
   "cell_type": "code",
   "execution_count": null,
   "metadata": {},
   "outputs": [],
   "source": []
  }
 ],
 "metadata": {
  "kernelspec": {
   "display_name": "Python 3",
   "language": "python",
   "name": "python3"
  },
  "language_info": {
   "codemirror_mode": {
    "name": "ipython",
    "version": 3
   },
   "file_extension": ".py",
   "mimetype": "text/x-python",
   "name": "python",
   "nbconvert_exporter": "python",
   "pygments_lexer": "ipython3",
   "version": "3.7.3"
  }
 },
 "nbformat": 4,
 "nbformat_minor": 2
}
