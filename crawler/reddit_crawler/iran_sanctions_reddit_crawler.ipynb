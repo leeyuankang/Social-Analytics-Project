{
 "cells": [
  {
   "cell_type": "code",
   "execution_count": 1,
   "metadata": {},
   "outputs": [],
   "source": [
    "import praw\n",
    "import pandas as pd\n",
    "import datetime as dt\n",
    "import pprint\n",
    "from praw.models import MoreComments"
   ]
  },
  {
   "cell_type": "code",
   "execution_count": 2,
   "metadata": {},
   "outputs": [],
   "source": [
    "'''\n",
    "Getting Reddit and subreddit instances\n",
    "\n",
    "PRAW stands for Python Reddit API Wrapper.\n",
    "\n",
    "First, we connect to Reddit by calling the praw.Reddit function and storing it in a variable.\n",
    "\n",
    "I’m calling mine reddit. You should pass the following arguments to that function:\n",
    "'''\n",
    "\n",
    "# Change to your own credentials\n",
    "\n",
    "reddit = praw.Reddit(client_id='24_YVEW5uih-fQ', \\\n",
    "                     client_secret='M_SFNkPu6aNsmGsvpWMjhhnJtcA', \\\n",
    "                     user_agent='IS434_Darren_Tan', \\\n",
    "                     username='darrentyh', \\\n",
    "                     password='IS434_SA')"
   ]
  },
  {
   "cell_type": "code",
   "execution_count": 3,
   "metadata": {},
   "outputs": [],
   "source": [
    "subreddit = reddit.subreddit('worldnews')"
   ]
  },
  {
   "cell_type": "code",
   "execution_count": 4,
   "metadata": {},
   "outputs": [],
   "source": [
    "# Reddit’s request limit* is 1000\n",
    "\n",
    "'''\n",
    "Parsing and downloading the data\n",
    "\n",
    "We are right now really close to getting the data in our hands.\n",
    "Our top_subreddit object has methods to return all kinds of information from each submission.\n",
    "You can check it for yourself with these simple two lines:\n",
    "'''\n",
    "\n",
    "# Search for \"hong kong protest in wordnews subreddit\"\n",
    "# Change the keyword\n",
    "\n",
    "post_id_list = []\n",
    "\n",
    "# include date\n",
    "for i in subreddit.search('iran sanctions', limit = None):\n",
    "    post_id_list.append(str(i))"
   ]
  },
  {
   "cell_type": "markdown",
   "metadata": {},
   "source": [
    "### Loop through post_id_list and retrieve all the comments in each post"
   ]
  },
  {
   "cell_type": "code",
   "execution_count": 5,
   "metadata": {},
   "outputs": [],
   "source": [
    "comments_dict = {\"comments\": []}\n",
    "\n",
    "for post_id in post_id_list:\n",
    "    submission_id = reddit.submission(id = post_id)\n",
    "    submission_id.comments.replace_more(limit = None)    \n",
    "    for comment in submission_id.comments.list():\n",
    "        comments_dict[\"comments\"].append(comment.body)"
   ]
  },
  {
   "cell_type": "code",
   "execution_count": 6,
   "metadata": {},
   "outputs": [],
   "source": [
    "data = pd.DataFrame(comments_dict)"
   ]
  },
  {
   "cell_type": "code",
   "execution_count": 7,
   "metadata": {},
   "outputs": [
    {
     "data": {
      "text/html": [
       "<div>\n",
       "<style scoped>\n",
       "    .dataframe tbody tr th:only-of-type {\n",
       "        vertical-align: middle;\n",
       "    }\n",
       "\n",
       "    .dataframe tbody tr th {\n",
       "        vertical-align: top;\n",
       "    }\n",
       "\n",
       "    .dataframe thead th {\n",
       "        text-align: right;\n",
       "    }\n",
       "</style>\n",
       "<table border=\"1\" class=\"dataframe\">\n",
       "  <thead>\n",
       "    <tr style=\"text-align: right;\">\n",
       "      <th></th>\n",
       "      <th>comments</th>\n",
       "    </tr>\n",
       "  </thead>\n",
       "  <tbody>\n",
       "    <tr>\n",
       "      <td>0</td>\n",
       "      <td>I've read the article. And I still have no ide...</td>\n",
       "    </tr>\n",
       "    <tr>\n",
       "      <td>1</td>\n",
       "      <td>Poor Saudi Arabia you can’t even commit a larg...</td>\n",
       "    </tr>\n",
       "    <tr>\n",
       "      <td>2</td>\n",
       "      <td>Without any proof Iran was involved..gee, no a...</td>\n",
       "    </tr>\n",
       "    <tr>\n",
       "      <td>3</td>\n",
       "      <td>The same people that manufactured, on command,...</td>\n",
       "    </tr>\n",
       "    <tr>\n",
       "      <td>4</td>\n",
       "      <td>Oh, there is coming back from this stupidity.</td>\n",
       "    </tr>\n",
       "    <tr>\n",
       "      <td>...</td>\n",
       "      <td>...</td>\n",
       "    </tr>\n",
       "    <tr>\n",
       "      <td>3688</td>\n",
       "      <td>Seems that even the democrats are trying to ac...</td>\n",
       "    </tr>\n",
       "    <tr>\n",
       "      <td>3689</td>\n",
       "      <td>I guess he is a paid friend of neteh...</td>\n",
       "    </tr>\n",
       "    <tr>\n",
       "      <td>3690</td>\n",
       "      <td>He's the Senator from Wall Street.  Not much t...</td>\n",
       "    </tr>\n",
       "    <tr>\n",
       "      <td>3691</td>\n",
       "      <td>... and once again ashamed to be Canadian</td>\n",
       "    </tr>\n",
       "    <tr>\n",
       "      <td>3692</td>\n",
       "      <td>The US Congress is already is in motion for ne...</td>\n",
       "    </tr>\n",
       "  </tbody>\n",
       "</table>\n",
       "<p>3693 rows × 1 columns</p>\n",
       "</div>"
      ],
      "text/plain": [
       "                                               comments\n",
       "0     I've read the article. And I still have no ide...\n",
       "1     Poor Saudi Arabia you can’t even commit a larg...\n",
       "2     Without any proof Iran was involved..gee, no a...\n",
       "3     The same people that manufactured, on command,...\n",
       "4         Oh, there is coming back from this stupidity.\n",
       "...                                                 ...\n",
       "3688  Seems that even the democrats are trying to ac...\n",
       "3689            I guess he is a paid friend of neteh...\n",
       "3690  He's the Senator from Wall Street.  Not much t...\n",
       "3691          ... and once again ashamed to be Canadian\n",
       "3692  The US Congress is already is in motion for ne...\n",
       "\n",
       "[3693 rows x 1 columns]"
      ]
     },
     "execution_count": 7,
     "metadata": {},
     "output_type": "execute_result"
    }
   ],
   "source": [
    "data"
   ]
  },
  {
   "cell_type": "code",
   "execution_count": 8,
   "metadata": {},
   "outputs": [],
   "source": [
    "data.to_csv('iran_sanctions_reddit.csv', index=False, encoding = \"utf-8-sig\")"
   ]
  }
 ],
 "metadata": {
  "kernelspec": {
   "display_name": "Python 3",
   "language": "python",
   "name": "python3"
  },
  "language_info": {
   "codemirror_mode": {
    "name": "ipython",
    "version": 3
   },
   "file_extension": ".py",
   "mimetype": "text/x-python",
   "name": "python",
   "nbconvert_exporter": "python",
   "pygments_lexer": "ipython3",
   "version": "3.7.3"
  }
 },
 "nbformat": 4,
 "nbformat_minor": 2
}
