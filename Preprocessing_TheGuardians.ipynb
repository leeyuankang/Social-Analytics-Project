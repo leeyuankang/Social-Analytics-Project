{
 "cells": [
  {
   "cell_type": "code",
   "execution_count": 7,
   "metadata": {},
   "outputs": [],
   "source": [
    "import pandas as pd\n",
    "import string\n",
    "import re\n",
    "from string import digits\n",
    "from sklearn.feature_extraction.stop_words import ENGLISH_STOP_WORDS\n",
    "from nltk.tokenize import word_tokenize\n",
    "from nltk.stem import WordNetLemmatizer\n",
    "from gensim import corpora\n",
    "import gensim\n",
    "import matplotlib.pyplot as plt\n",
    "import urllib.parse\n"
   ]
  },
  {
   "cell_type": "code",
   "execution_count": 9,
   "metadata": {},
   "outputs": [
    {
     "name": "stdout",
     "output_type": "stream",
     "text": [
      "Empty DataFrame\n",
      "Columns: []\n",
      "Index: []\n"
     ]
    }
   ],
   "source": [
    "#file1 = pd.read_csv(\"data/the_guardian2019-10-24_first_part.csv\")\n",
    "#file2 = pd.read_csv(\"data/the_guardian2019-10-24_second_part.csv\")\n",
    "#file3 = pd.read_csv(\"data/the_guardian2019-10-25_third_part.csv\")\n",
    "#file4 = pd.read_csv(\"data/the_guardian2019-10-25_fourth_part.csv\")\n",
    "mergedGuardians = pd.read_csv(\"data/merged_cleaned_TheGuardians.csv\")\n",
    "#mergedGuardians = pd.merge( file3, file4 ,on=['headline','standfirst', 'author', 'date_time','content', 'url'],how = 'outer')\n",
    "#mergedGuardians = pd.merge( file1, mergedGuardians ,on=['headline','standfirst', 'author', 'date_time','content', 'url'],how = 'outer')\n",
    "#mergedGuardians = pd.merge( mergedGuardians, file2,on=['headline','standfirst', 'author', 'date_time','content', 'url'],how = 'outer')\n",
    "mergedGuardians.dropna( inplace = True )\n",
    "null_columns = mergedGuardians.columns[mergedGuardians.isnull().any()]\n",
    "print(mergedGuardians[mergedGuardians.isnull().any(axis=1)][null_columns])\n",
    "mergedGuardians.index = mergedGuardians.index + 1\n",
    "mergedGuardians.to_csv('data/merged_cleaned_TheGuardians.csv', encoding='utf-8-sig')"
   ]
  },
  {
   "cell_type": "code",
   "execution_count": 4,
   "metadata": {},
   "outputs": [
    {
     "ename": "NameError",
     "evalue": "name 'mergedGuardians' is not defined",
     "output_type": "error",
     "traceback": [
      "\u001b[1;31m---------------------------------------------------------------------------\u001b[0m",
      "\u001b[1;31mNameError\u001b[0m                                 Traceback (most recent call last)",
      "\u001b[1;32m<ipython-input-4-2ad429a7da98>\u001b[0m in \u001b[0;36m<module>\u001b[1;34m\u001b[0m\n\u001b[0;32m      4\u001b[0m     \u001b[1;32mreturn\u001b[0m \u001b[0mdates\u001b[0m\u001b[1;33m\u001b[0m\u001b[1;33m\u001b[0m\u001b[0m\n\u001b[0;32m      5\u001b[0m \u001b[1;33m\u001b[0m\u001b[0m\n\u001b[1;32m----> 6\u001b[1;33m \u001b[0mmergedGuardians\u001b[0m\u001b[1;33m[\u001b[0m\u001b[1;34m'date_time'\u001b[0m\u001b[1;33m]\u001b[0m \u001b[1;33m=\u001b[0m \u001b[0mmergedGuardians\u001b[0m\u001b[1;33m[\u001b[0m\u001b[1;34m'date_time'\u001b[0m\u001b[1;33m]\u001b[0m\u001b[1;33m.\u001b[0m\u001b[0mapply\u001b[0m\u001b[1;33m(\u001b[0m\u001b[0mprocessing\u001b[0m\u001b[1;33m)\u001b[0m\u001b[1;33m\u001b[0m\u001b[1;33m\u001b[0m\u001b[0m\n\u001b[0m\u001b[0;32m      7\u001b[0m \u001b[1;33m\u001b[0m\u001b[0m\n\u001b[0;32m      8\u001b[0m \u001b[1;33m\u001b[0m\u001b[0m\n",
      "\u001b[1;31mNameError\u001b[0m: name 'mergedGuardians' is not defined"
     ]
    }
   ],
   "source": [
    "def processing( dates ):\n",
    "    dates = dates.replace('T', '/ ')\n",
    "    dates = dates.replace('+0100','')\n",
    "    return dates\n",
    "\n",
    "mergedGuardians['date_time'] = mergedGuardians['date_time'].apply(processing)\n",
    "\n",
    "\n",
    "#mergedGuardians.drop('url',axis = 1)\n",
    "cols = ['author', 'content','headline', 'standfirst', 'date_time']\n",
    "mergedGuardians = mergedGuardians[cols]\n",
    "mergedGuardians.rename( columns = { 'date_time' : 'time' }, inplace = True )\n",
    "mergedGuardians = mergedGuardians"
   ]
  },
  {
   "cell_type": "code",
   "execution_count": 64,
   "metadata": {},
   "outputs": [],
   "source": [
    "mergedGuardians.to_csv('data/merged_cleaned_TheGuardians.csv', encoding='utf-8-sig')"
   ]
  },
  {
   "cell_type": "code",
   "execution_count": null,
   "metadata": {},
   "outputs": [],
   "source": []
  }
 ],
 "metadata": {
  "kernelspec": {
   "display_name": "Python 3",
   "language": "python",
   "name": "python3"
  },
  "language_info": {
   "codemirror_mode": {
    "name": "ipython",
    "version": 3
   },
   "file_extension": ".py",
   "mimetype": "text/x-python",
   "name": "python",
   "nbconvert_exporter": "python",
   "pygments_lexer": "ipython3",
   "version": "3.7.1"
  }
 },
 "nbformat": 4,
 "nbformat_minor": 2
}
