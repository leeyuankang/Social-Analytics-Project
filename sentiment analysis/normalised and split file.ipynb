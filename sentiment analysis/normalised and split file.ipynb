{
 "cells": [
  {
   "cell_type": "code",
   "execution_count": 21,
   "metadata": {},
   "outputs": [],
   "source": [
    "import pandas as pd"
   ]
  },
  {
   "cell_type": "code",
   "execution_count": 22,
   "metadata": {},
   "outputs": [
    {
     "name": "stderr",
     "output_type": "stream",
     "text": [
      "/Users/yuankanglee/anaconda3/lib/python3.7/site-packages/IPython/core/interactiveshell.py:3049: DtypeWarning: Columns (0,2) have mixed types. Specify dtype option on import or set low_memory=False.\n",
      "  interactivity=interactivity, compiler=compiler, result=result)\n"
     ]
    }
   ],
   "source": [
    "Boeing_sentiment = pd.read_csv('../Individual_SentimentAnalysis_Files/Boeing_SentimentAnalysis.csv')\n",
    "brexit_sentiment = pd.read_csv('../Individual_SentimentAnalysis_Files/Brexit_SentimentAnalysis.csv')\n",
    "HongKongProtest_sentiment = pd.read_csv('../Individual_SentimentAnalysis_Files/HongKongProtestSentimentAnalysis.csv')\n",
    "Iran_Sanctions_sentiment = pd.read_csv('../Individual_SentimentAnalysis_Files/Iran_Sanctions_SentimentAnalysis.csv')\n",
    "SyrianCivilWar_sentiment = pd.read_csv('../Individual_SentimentAnalysis_Files/SyrianCivilWar_SentimentAnalysis.csv')\n",
    "USChina_TradeWar_sentiment = pd.read_csv('../Individual_SentimentAnalysis_Files/USChina_TradeWar_SentimentAnalysis.csv')"
   ]
  },
  {
   "cell_type": "code",
   "execution_count": 23,
   "metadata": {},
   "outputs": [
    {
     "name": "stderr",
     "output_type": "stream",
     "text": [
      "/Users/yuankanglee/anaconda3/lib/python3.7/site-packages/ipykernel_launcher.py:1: FutureWarning: convert_objects is deprecated.  To re-infer data dtypes for object columns, use Series.infer_objects()\n",
      "For all other conversions use the data-type specific converters pd.to_datetime, pd.to_timedelta and pd.to_numeric.\n",
      "  \"\"\"Entry point for launching an IPython kernel.\n"
     ]
    }
   ],
   "source": [
    "Boeing_sentiment['Score'] = Boeing_sentiment.Score.convert_objects(convert_numeric=True)\n",
    "max_score = Boeing_sentiment['Score'].max()\n",
    "min_score = Boeing_sentiment['Score'].min()\n",
    "\n",
    "Boeing_sentiment['normalized_score'] = Boeing_sentiment.apply(\n",
    "lambda x: (x['Score'] - min_score)/(max_score-min_score), axis=1)\n",
    "\n",
    "def positive_or_negative(x):\n",
    "    if x > 0.5:\n",
    "        return 'positive'\n",
    "    elif x < 0.5:\n",
    "        return 'negative'\n",
    "    elif x == 0.5:\n",
    "        return 'neutral'\n",
    "\n",
    "Boeing_sentiment['normalized_pos_neg'] = Boeing_sentiment.apply(\n",
    "lambda x: positive_or_negative(x['normalized_score']) , axis=1)\n",
    "Boeing_sentiment['normalized_score'].mean()\n",
    "\n",
    "pos_boeing_sentiment = Boeing_sentiment[Boeing_sentiment['normalized_pos_neg'] == 'positive']\n",
    "neg_boeing_sentiment = Boeing_sentiment[Boeing_sentiment['normalized_pos_neg'] == 'negative']\n",
    "pos_boeing_sentiment.to_csv('../sentiment_split/pos_boeing_sentiment.csv',encoding='utf-8-sig', index=False)\n",
    "neg_boeing_sentiment.to_csv('../sentiment_split/neg_boeing_sentiment.csv',encoding='utf-8-sig', index=False)"
   ]
  },
  {
   "cell_type": "code",
   "execution_count": 24,
   "metadata": {},
   "outputs": [
    {
     "name": "stderr",
     "output_type": "stream",
     "text": [
      "/Users/yuankanglee/anaconda3/lib/python3.7/site-packages/ipykernel_launcher.py:1: FutureWarning: convert_objects is deprecated.  To re-infer data dtypes for object columns, use Series.infer_objects()\n",
      "For all other conversions use the data-type specific converters pd.to_datetime, pd.to_timedelta and pd.to_numeric.\n",
      "  \"\"\"Entry point for launching an IPython kernel.\n"
     ]
    }
   ],
   "source": [
    "brexit_sentiment['Score'] = brexit_sentiment.Score.convert_objects(convert_numeric=True)\n",
    "max_score = brexit_sentiment['Score'].max()\n",
    "min_score = brexit_sentiment['Score'].min()\n",
    "\n",
    "brexit_sentiment['normalized_score'] = brexit_sentiment.apply(\n",
    "lambda x: (x['Score'] - min_score)/(max_score-min_score), axis=1)\n",
    "\n",
    "def positive_or_negative(x):\n",
    "    if x > 0.5:\n",
    "        return 'postive'\n",
    "    elif x < 0.5:\n",
    "        return 'negative'\n",
    "    elif x == 0.5:\n",
    "        return 'neutral'\n",
    "\n",
    "brexit_sentiment['normalized_pos_neg'] = brexit_sentiment.apply(\n",
    "lambda x: positive_or_negative(x['normalized_score']) , axis=1)\n",
    "brexit_sentiment['normalized_score'].mean()\n",
    "\n",
    "pos_brexit_sentiment = brexit_sentiment[brexit_sentiment['normalized_pos_neg'] == 'positive']\n",
    "neg_brexit_sentiment = brexit_sentiment[brexit_sentiment['normalized_pos_neg'] == 'negative']\n",
    "pos_brexit_sentiment.to_csv('../sentiment_split/pos_brexit_sentiment.csv',encoding='utf-8-sig', index=False)\n",
    "neg_brexit_sentiment.to_csv('../sentiment_split/neg_brexit_sentiment.csv',encoding='utf-8-sig', index=False)"
   ]
  },
  {
   "cell_type": "code",
   "execution_count": 25,
   "metadata": {},
   "outputs": [
    {
     "name": "stderr",
     "output_type": "stream",
     "text": [
      "/Users/yuankanglee/anaconda3/lib/python3.7/site-packages/ipykernel_launcher.py:1: FutureWarning: convert_objects is deprecated.  To re-infer data dtypes for object columns, use Series.infer_objects()\n",
      "For all other conversions use the data-type specific converters pd.to_datetime, pd.to_timedelta and pd.to_numeric.\n",
      "  \"\"\"Entry point for launching an IPython kernel.\n"
     ]
    }
   ],
   "source": [
    "HongKongProtest_sentiment['Score'] = HongKongProtest_sentiment.Score.convert_objects(convert_numeric=True)\n",
    "max_score = HongKongProtest_sentiment['Score'].max()\n",
    "min_score = HongKongProtest_sentiment['Score'].min()\n",
    "\n",
    "HongKongProtest_sentiment['normalized_score'] = HongKongProtest_sentiment.apply(\n",
    "lambda x: (x['Score'] - min_score)/(max_score-min_score), axis=1)\n",
    "\n",
    "def positive_or_negative(x):\n",
    "    if x > 0.5:\n",
    "        return 'postive'\n",
    "    elif x < 0.5:\n",
    "        return 'negative'\n",
    "    elif x == 0.5:\n",
    "        return 'neutral'\n",
    "\n",
    "HongKongProtest_sentiment['normalized_pos_neg'] = HongKongProtest_sentiment.apply(\n",
    "lambda x: positive_or_negative(x['normalized_score']) , axis=1)\n",
    "HongKongProtest_sentiment['normalized_score'].mean()\n",
    "\n",
    "pos_HongKongProtest_sentiment = HongKongProtest_sentiment[HongKongProtest_sentiment['normalized_pos_neg'] == 'positive']\n",
    "neg_HongKongProtest_sentiment = HongKongProtest_sentiment[HongKongProtest_sentiment['normalized_pos_neg'] == 'negative']\n",
    "pos_brexit_sentiment.to_csv('../sentiment_split/pos_HongKongProtest_sentiment.csv',encoding='utf-8-sig', index=False)\n",
    "neg_brexit_sentiment.to_csv('../sentiment_split/neg_HongKongProtest_sentiment.csv',encoding='utf-8-sig', index=False)"
   ]
  },
  {
   "cell_type": "code",
   "execution_count": 26,
   "metadata": {},
   "outputs": [
    {
     "name": "stderr",
     "output_type": "stream",
     "text": [
      "/Users/yuankanglee/anaconda3/lib/python3.7/site-packages/ipykernel_launcher.py:1: FutureWarning: convert_objects is deprecated.  To re-infer data dtypes for object columns, use Series.infer_objects()\n",
      "For all other conversions use the data-type specific converters pd.to_datetime, pd.to_timedelta and pd.to_numeric.\n",
      "  \"\"\"Entry point for launching an IPython kernel.\n"
     ]
    }
   ],
   "source": [
    "Iran_Sanctions_sentiment['Score'] = Iran_Sanctions_sentiment.Score.convert_objects(convert_numeric=True)\n",
    "max_score = Iran_Sanctions_sentiment['Score'].max()\n",
    "min_score = Iran_Sanctions_sentiment['Score'].min()\n",
    "\n",
    "Iran_Sanctions_sentiment['normalized_score'] = Iran_Sanctions_sentiment.apply(\n",
    "lambda x: (x['Score'] - min_score)/(max_score-min_score), axis=1)\n",
    "\n",
    "def positive_or_negative(x):\n",
    "    if x > 0.5:\n",
    "        return 'postive'\n",
    "    elif x < 0.5:\n",
    "        return 'negative'\n",
    "    elif x == 0.5:\n",
    "        return 'neutral'\n",
    "\n",
    "Iran_Sanctions_sentiment['normalized_pos_neg'] = Iran_Sanctions_sentiment.apply(\n",
    "lambda x: positive_or_negative(x['normalized_score']) , axis=1)\n",
    "Iran_Sanctions_sentiment['normalized_score'].mean()\n",
    "\n",
    "pos_Iran_Sanctions_sentiment = Iran_Sanctions_sentiment[Iran_Sanctions_sentiment['normalized_pos_neg'] == 'positive']\n",
    "neg_Iran_Sanctions_sentiment = Iran_Sanctions_sentiment[Iran_Sanctions_sentiment['normalized_pos_neg'] == 'negative']\n",
    "pos_Iran_Sanctions_sentiment.to_csv('../sentiment_split/pos_Iran_Sanctions_sentiment.csv',encoding='utf-8-sig', index=False)\n",
    "neg_Iran_Sanctions_sentiment.to_csv('../sentiment_split/neg_Iran_Sanctions_sentiment.csv',encoding='utf-8-sig', index=False)"
   ]
  },
  {
   "cell_type": "code",
   "execution_count": 27,
   "metadata": {},
   "outputs": [
    {
     "name": "stderr",
     "output_type": "stream",
     "text": [
      "/Users/yuankanglee/anaconda3/lib/python3.7/site-packages/ipykernel_launcher.py:1: FutureWarning: convert_objects is deprecated.  To re-infer data dtypes for object columns, use Series.infer_objects()\n",
      "For all other conversions use the data-type specific converters pd.to_datetime, pd.to_timedelta and pd.to_numeric.\n",
      "  \"\"\"Entry point for launching an IPython kernel.\n"
     ]
    }
   ],
   "source": [
    "SyrianCivilWar_sentiment['Score'] = SyrianCivilWar_sentiment.Score.convert_objects(convert_numeric=True)\n",
    "max_score = SyrianCivilWar_sentiment['Score'].max()\n",
    "min_score = SyrianCivilWar_sentiment['Score'].min()\n",
    "\n",
    "SyrianCivilWar_sentiment['normalized_score'] = SyrianCivilWar_sentiment.apply(\n",
    "lambda x: (x['Score'] - min_score)/(max_score-min_score), axis=1)\n",
    "\n",
    "def positive_or_negative(x):\n",
    "    if x > 0.5:\n",
    "        return 'postive'\n",
    "    elif x < 0.5:\n",
    "        return 'negative'\n",
    "    elif x == 0.5:\n",
    "        return 'neutral'\n",
    "\n",
    "SyrianCivilWar_sentiment['normalized_pos_neg'] = SyrianCivilWar_sentiment.apply(\n",
    "lambda x: positive_or_negative(x['normalized_score']) , axis=1)\n",
    "SyrianCivilWar_sentiment['normalized_score'].mean()\n",
    "\n",
    "pos_SyrianCivilWar_sentiment = SyrianCivilWar_sentiment[SyrianCivilWar_sentiment['normalized_pos_neg'] == 'positive']\n",
    "neg_SyrianCivilWar_sentiment = SyrianCivilWar_sentiment[SyrianCivilWar_sentiment['normalized_pos_neg'] == 'negative']\n",
    "pos_SyrianCivilWar_sentiment.to_csv('../sentiment_split/pos_SyrianCivilWar_sentiment.csv',encoding='utf-8-sig', index=False)\n",
    "neg_SyrianCivilWar_sentiment.to_csv('../sentiment_split/neg_SyrianCivilWar_sentiment.csv',encoding='utf-8-sig', index=False)"
   ]
  },
  {
   "cell_type": "code",
   "execution_count": 28,
   "metadata": {},
   "outputs": [
    {
     "name": "stderr",
     "output_type": "stream",
     "text": [
      "/Users/yuankanglee/anaconda3/lib/python3.7/site-packages/ipykernel_launcher.py:1: FutureWarning: convert_objects is deprecated.  To re-infer data dtypes for object columns, use Series.infer_objects()\n",
      "For all other conversions use the data-type specific converters pd.to_datetime, pd.to_timedelta and pd.to_numeric.\n",
      "  \"\"\"Entry point for launching an IPython kernel.\n"
     ]
    },
    {
     "ename": "KeyError",
     "evalue": "('normalized_score', 'occurred at index 0')",
     "output_type": "error",
     "traceback": [
      "\u001b[0;31m---------------------------------------------------------------------------\u001b[0m",
      "\u001b[0;31mTypeError\u001b[0m                                 Traceback (most recent call last)",
      "\u001b[0;32m~/anaconda3/lib/python3.7/site-packages/pandas/core/indexes/base.py\u001b[0m in \u001b[0;36mget_value\u001b[0;34m(self, series, key)\u001b[0m\n\u001b[1;32m   4380\u001b[0m             \u001b[0;32mtry\u001b[0m\u001b[0;34m:\u001b[0m\u001b[0;34m\u001b[0m\u001b[0;34m\u001b[0m\u001b[0m\n\u001b[0;32m-> 4381\u001b[0;31m                 \u001b[0;32mreturn\u001b[0m \u001b[0mlibindex\u001b[0m\u001b[0;34m.\u001b[0m\u001b[0mget_value_box\u001b[0m\u001b[0;34m(\u001b[0m\u001b[0ms\u001b[0m\u001b[0;34m,\u001b[0m \u001b[0mkey\u001b[0m\u001b[0;34m)\u001b[0m\u001b[0;34m\u001b[0m\u001b[0;34m\u001b[0m\u001b[0m\n\u001b[0m\u001b[1;32m   4382\u001b[0m             \u001b[0;32mexcept\u001b[0m \u001b[0mIndexError\u001b[0m\u001b[0;34m:\u001b[0m\u001b[0;34m\u001b[0m\u001b[0;34m\u001b[0m\u001b[0m\n",
      "\u001b[0;32mpandas/_libs/index.pyx\u001b[0m in \u001b[0;36mpandas._libs.index.get_value_box\u001b[0;34m()\u001b[0m\n",
      "\u001b[0;32mpandas/_libs/index.pyx\u001b[0m in \u001b[0;36mpandas._libs.index.get_value_at\u001b[0;34m()\u001b[0m\n",
      "\u001b[0;32mpandas/_libs/util.pxd\u001b[0m in \u001b[0;36mpandas._libs.util.get_value_at\u001b[0;34m()\u001b[0m\n",
      "\u001b[0;32mpandas/_libs/util.pxd\u001b[0m in \u001b[0;36mpandas._libs.util.validate_indexer\u001b[0;34m()\u001b[0m\n",
      "\u001b[0;31mTypeError\u001b[0m: 'str' object cannot be interpreted as an integer",
      "\nDuring handling of the above exception, another exception occurred:\n",
      "\u001b[0;31mKeyError\u001b[0m                                  Traceback (most recent call last)",
      "\u001b[0;32m<ipython-input-28-c2da6032833f>\u001b[0m in \u001b[0;36m<module>\u001b[0;34m\u001b[0m\n\u001b[1;32m     15\u001b[0m \u001b[0;34m\u001b[0m\u001b[0m\n\u001b[1;32m     16\u001b[0m USChina_TradeWar_sentiment['normalized_pos_neg'] = USChina_TradeWar_sentiment.apply(\n\u001b[0;32m---> 17\u001b[0;31m lambda x: positive_or_negative(x['normalized_score']) , axis=1)\n\u001b[0m\u001b[1;32m     18\u001b[0m \u001b[0mUSChina_TradeWar_sentiment\u001b[0m\u001b[0;34m[\u001b[0m\u001b[0;34m'normalized_score'\u001b[0m\u001b[0;34m]\u001b[0m\u001b[0;34m.\u001b[0m\u001b[0mmean\u001b[0m\u001b[0;34m(\u001b[0m\u001b[0;34m)\u001b[0m\u001b[0;34m\u001b[0m\u001b[0;34m\u001b[0m\u001b[0m\n\u001b[1;32m     19\u001b[0m \u001b[0;34m\u001b[0m\u001b[0m\n",
      "\u001b[0;32m~/anaconda3/lib/python3.7/site-packages/pandas/core/frame.py\u001b[0m in \u001b[0;36mapply\u001b[0;34m(self, func, axis, broadcast, raw, reduce, result_type, args, **kwds)\u001b[0m\n\u001b[1;32m   6485\u001b[0m                          \u001b[0margs\u001b[0m\u001b[0;34m=\u001b[0m\u001b[0margs\u001b[0m\u001b[0;34m,\u001b[0m\u001b[0;34m\u001b[0m\u001b[0;34m\u001b[0m\u001b[0m\n\u001b[1;32m   6486\u001b[0m                          kwds=kwds)\n\u001b[0;32m-> 6487\u001b[0;31m         \u001b[0;32mreturn\u001b[0m \u001b[0mop\u001b[0m\u001b[0;34m.\u001b[0m\u001b[0mget_result\u001b[0m\u001b[0;34m(\u001b[0m\u001b[0;34m)\u001b[0m\u001b[0;34m\u001b[0m\u001b[0;34m\u001b[0m\u001b[0m\n\u001b[0m\u001b[1;32m   6488\u001b[0m \u001b[0;34m\u001b[0m\u001b[0m\n\u001b[1;32m   6489\u001b[0m     \u001b[0;32mdef\u001b[0m \u001b[0mapplymap\u001b[0m\u001b[0;34m(\u001b[0m\u001b[0mself\u001b[0m\u001b[0;34m,\u001b[0m \u001b[0mfunc\u001b[0m\u001b[0;34m)\u001b[0m\u001b[0;34m:\u001b[0m\u001b[0;34m\u001b[0m\u001b[0;34m\u001b[0m\u001b[0m\n",
      "\u001b[0;32m~/anaconda3/lib/python3.7/site-packages/pandas/core/apply.py\u001b[0m in \u001b[0;36mget_result\u001b[0;34m(self)\u001b[0m\n\u001b[1;32m    149\u001b[0m             \u001b[0;32mreturn\u001b[0m \u001b[0mself\u001b[0m\u001b[0;34m.\u001b[0m\u001b[0mapply_raw\u001b[0m\u001b[0;34m(\u001b[0m\u001b[0;34m)\u001b[0m\u001b[0;34m\u001b[0m\u001b[0;34m\u001b[0m\u001b[0m\n\u001b[1;32m    150\u001b[0m \u001b[0;34m\u001b[0m\u001b[0m\n\u001b[0;32m--> 151\u001b[0;31m         \u001b[0;32mreturn\u001b[0m \u001b[0mself\u001b[0m\u001b[0;34m.\u001b[0m\u001b[0mapply_standard\u001b[0m\u001b[0;34m(\u001b[0m\u001b[0;34m)\u001b[0m\u001b[0;34m\u001b[0m\u001b[0;34m\u001b[0m\u001b[0m\n\u001b[0m\u001b[1;32m    152\u001b[0m \u001b[0;34m\u001b[0m\u001b[0m\n\u001b[1;32m    153\u001b[0m     \u001b[0;32mdef\u001b[0m \u001b[0mapply_empty_result\u001b[0m\u001b[0;34m(\u001b[0m\u001b[0mself\u001b[0m\u001b[0;34m)\u001b[0m\u001b[0;34m:\u001b[0m\u001b[0;34m\u001b[0m\u001b[0;34m\u001b[0m\u001b[0m\n",
      "\u001b[0;32m~/anaconda3/lib/python3.7/site-packages/pandas/core/apply.py\u001b[0m in \u001b[0;36mapply_standard\u001b[0;34m(self)\u001b[0m\n\u001b[1;32m    255\u001b[0m \u001b[0;34m\u001b[0m\u001b[0m\n\u001b[1;32m    256\u001b[0m         \u001b[0;31m# compute the result using the series generator\u001b[0m\u001b[0;34m\u001b[0m\u001b[0;34m\u001b[0m\u001b[0;34m\u001b[0m\u001b[0m\n\u001b[0;32m--> 257\u001b[0;31m         \u001b[0mself\u001b[0m\u001b[0;34m.\u001b[0m\u001b[0mapply_series_generator\u001b[0m\u001b[0;34m(\u001b[0m\u001b[0;34m)\u001b[0m\u001b[0;34m\u001b[0m\u001b[0;34m\u001b[0m\u001b[0m\n\u001b[0m\u001b[1;32m    258\u001b[0m \u001b[0;34m\u001b[0m\u001b[0m\n\u001b[1;32m    259\u001b[0m         \u001b[0;31m# wrap results\u001b[0m\u001b[0;34m\u001b[0m\u001b[0;34m\u001b[0m\u001b[0;34m\u001b[0m\u001b[0m\n",
      "\u001b[0;32m~/anaconda3/lib/python3.7/site-packages/pandas/core/apply.py\u001b[0m in \u001b[0;36mapply_series_generator\u001b[0;34m(self)\u001b[0m\n\u001b[1;32m    284\u001b[0m             \u001b[0;32mtry\u001b[0m\u001b[0;34m:\u001b[0m\u001b[0;34m\u001b[0m\u001b[0;34m\u001b[0m\u001b[0m\n\u001b[1;32m    285\u001b[0m                 \u001b[0;32mfor\u001b[0m \u001b[0mi\u001b[0m\u001b[0;34m,\u001b[0m \u001b[0mv\u001b[0m \u001b[0;32min\u001b[0m \u001b[0menumerate\u001b[0m\u001b[0;34m(\u001b[0m\u001b[0mseries_gen\u001b[0m\u001b[0;34m)\u001b[0m\u001b[0;34m:\u001b[0m\u001b[0;34m\u001b[0m\u001b[0;34m\u001b[0m\u001b[0m\n\u001b[0;32m--> 286\u001b[0;31m                     \u001b[0mresults\u001b[0m\u001b[0;34m[\u001b[0m\u001b[0mi\u001b[0m\u001b[0;34m]\u001b[0m \u001b[0;34m=\u001b[0m \u001b[0mself\u001b[0m\u001b[0;34m.\u001b[0m\u001b[0mf\u001b[0m\u001b[0;34m(\u001b[0m\u001b[0mv\u001b[0m\u001b[0;34m)\u001b[0m\u001b[0;34m\u001b[0m\u001b[0;34m\u001b[0m\u001b[0m\n\u001b[0m\u001b[1;32m    287\u001b[0m                     \u001b[0mkeys\u001b[0m\u001b[0;34m.\u001b[0m\u001b[0mappend\u001b[0m\u001b[0;34m(\u001b[0m\u001b[0mv\u001b[0m\u001b[0;34m.\u001b[0m\u001b[0mname\u001b[0m\u001b[0;34m)\u001b[0m\u001b[0;34m\u001b[0m\u001b[0;34m\u001b[0m\u001b[0m\n\u001b[1;32m    288\u001b[0m             \u001b[0;32mexcept\u001b[0m \u001b[0mException\u001b[0m \u001b[0;32mas\u001b[0m \u001b[0me\u001b[0m\u001b[0;34m:\u001b[0m\u001b[0;34m\u001b[0m\u001b[0;34m\u001b[0m\u001b[0m\n",
      "\u001b[0;32m<ipython-input-28-c2da6032833f>\u001b[0m in \u001b[0;36m<lambda>\u001b[0;34m(x)\u001b[0m\n\u001b[1;32m     15\u001b[0m \u001b[0;34m\u001b[0m\u001b[0m\n\u001b[1;32m     16\u001b[0m USChina_TradeWar_sentiment['normalized_pos_neg'] = USChina_TradeWar_sentiment.apply(\n\u001b[0;32m---> 17\u001b[0;31m lambda x: positive_or_negative(x['normalized_score']) , axis=1)\n\u001b[0m\u001b[1;32m     18\u001b[0m \u001b[0mUSChina_TradeWar_sentiment\u001b[0m\u001b[0;34m[\u001b[0m\u001b[0;34m'normalized_score'\u001b[0m\u001b[0;34m]\u001b[0m\u001b[0;34m.\u001b[0m\u001b[0mmean\u001b[0m\u001b[0;34m(\u001b[0m\u001b[0;34m)\u001b[0m\u001b[0;34m\u001b[0m\u001b[0;34m\u001b[0m\u001b[0m\n\u001b[1;32m     19\u001b[0m \u001b[0;34m\u001b[0m\u001b[0m\n",
      "\u001b[0;32m~/anaconda3/lib/python3.7/site-packages/pandas/core/series.py\u001b[0m in \u001b[0;36m__getitem__\u001b[0;34m(self, key)\u001b[0m\n\u001b[1;32m    866\u001b[0m         \u001b[0mkey\u001b[0m \u001b[0;34m=\u001b[0m \u001b[0mcom\u001b[0m\u001b[0;34m.\u001b[0m\u001b[0mapply_if_callable\u001b[0m\u001b[0;34m(\u001b[0m\u001b[0mkey\u001b[0m\u001b[0;34m,\u001b[0m \u001b[0mself\u001b[0m\u001b[0;34m)\u001b[0m\u001b[0;34m\u001b[0m\u001b[0;34m\u001b[0m\u001b[0m\n\u001b[1;32m    867\u001b[0m         \u001b[0;32mtry\u001b[0m\u001b[0;34m:\u001b[0m\u001b[0;34m\u001b[0m\u001b[0;34m\u001b[0m\u001b[0m\n\u001b[0;32m--> 868\u001b[0;31m             \u001b[0mresult\u001b[0m \u001b[0;34m=\u001b[0m \u001b[0mself\u001b[0m\u001b[0;34m.\u001b[0m\u001b[0mindex\u001b[0m\u001b[0;34m.\u001b[0m\u001b[0mget_value\u001b[0m\u001b[0;34m(\u001b[0m\u001b[0mself\u001b[0m\u001b[0;34m,\u001b[0m \u001b[0mkey\u001b[0m\u001b[0;34m)\u001b[0m\u001b[0;34m\u001b[0m\u001b[0;34m\u001b[0m\u001b[0m\n\u001b[0m\u001b[1;32m    869\u001b[0m \u001b[0;34m\u001b[0m\u001b[0m\n\u001b[1;32m    870\u001b[0m             \u001b[0;32mif\u001b[0m \u001b[0;32mnot\u001b[0m \u001b[0mis_scalar\u001b[0m\u001b[0;34m(\u001b[0m\u001b[0mresult\u001b[0m\u001b[0;34m)\u001b[0m\u001b[0;34m:\u001b[0m\u001b[0;34m\u001b[0m\u001b[0;34m\u001b[0m\u001b[0m\n",
      "\u001b[0;32m~/anaconda3/lib/python3.7/site-packages/pandas/core/indexes/base.py\u001b[0m in \u001b[0;36mget_value\u001b[0;34m(self, series, key)\u001b[0m\n\u001b[1;32m   4387\u001b[0m                     \u001b[0;32mraise\u001b[0m \u001b[0mInvalidIndexError\u001b[0m\u001b[0;34m(\u001b[0m\u001b[0mkey\u001b[0m\u001b[0;34m)\u001b[0m\u001b[0;34m\u001b[0m\u001b[0;34m\u001b[0m\u001b[0m\n\u001b[1;32m   4388\u001b[0m                 \u001b[0;32melse\u001b[0m\u001b[0;34m:\u001b[0m\u001b[0;34m\u001b[0m\u001b[0;34m\u001b[0m\u001b[0m\n\u001b[0;32m-> 4389\u001b[0;31m                     \u001b[0;32mraise\u001b[0m \u001b[0me1\u001b[0m\u001b[0;34m\u001b[0m\u001b[0;34m\u001b[0m\u001b[0m\n\u001b[0m\u001b[1;32m   4390\u001b[0m             \u001b[0;32mexcept\u001b[0m \u001b[0mException\u001b[0m\u001b[0;34m:\u001b[0m  \u001b[0;31m# pragma: no cover\u001b[0m\u001b[0;34m\u001b[0m\u001b[0;34m\u001b[0m\u001b[0m\n\u001b[1;32m   4391\u001b[0m                 \u001b[0;32mraise\u001b[0m \u001b[0me1\u001b[0m\u001b[0;34m\u001b[0m\u001b[0;34m\u001b[0m\u001b[0m\n",
      "\u001b[0;32m~/anaconda3/lib/python3.7/site-packages/pandas/core/indexes/base.py\u001b[0m in \u001b[0;36mget_value\u001b[0;34m(self, series, key)\u001b[0m\n\u001b[1;32m   4373\u001b[0m         \u001b[0;32mtry\u001b[0m\u001b[0;34m:\u001b[0m\u001b[0;34m\u001b[0m\u001b[0;34m\u001b[0m\u001b[0m\n\u001b[1;32m   4374\u001b[0m             return self._engine.get_value(s, k,\n\u001b[0;32m-> 4375\u001b[0;31m                                           tz=getattr(series.dtype, 'tz', None))\n\u001b[0m\u001b[1;32m   4376\u001b[0m         \u001b[0;32mexcept\u001b[0m \u001b[0mKeyError\u001b[0m \u001b[0;32mas\u001b[0m \u001b[0me1\u001b[0m\u001b[0;34m:\u001b[0m\u001b[0;34m\u001b[0m\u001b[0;34m\u001b[0m\u001b[0m\n\u001b[1;32m   4377\u001b[0m             \u001b[0;32mif\u001b[0m \u001b[0mlen\u001b[0m\u001b[0;34m(\u001b[0m\u001b[0mself\u001b[0m\u001b[0;34m)\u001b[0m \u001b[0;34m>\u001b[0m \u001b[0;36m0\u001b[0m \u001b[0;32mand\u001b[0m \u001b[0;34m(\u001b[0m\u001b[0mself\u001b[0m\u001b[0;34m.\u001b[0m\u001b[0mholds_integer\u001b[0m\u001b[0;34m(\u001b[0m\u001b[0;34m)\u001b[0m \u001b[0;32mor\u001b[0m \u001b[0mself\u001b[0m\u001b[0;34m.\u001b[0m\u001b[0mis_boolean\u001b[0m\u001b[0;34m(\u001b[0m\u001b[0;34m)\u001b[0m\u001b[0;34m)\u001b[0m\u001b[0;34m:\u001b[0m\u001b[0;34m\u001b[0m\u001b[0;34m\u001b[0m\u001b[0m\n",
      "\u001b[0;32mpandas/_libs/index.pyx\u001b[0m in \u001b[0;36mpandas._libs.index.IndexEngine.get_value\u001b[0;34m()\u001b[0m\n",
      "\u001b[0;32mpandas/_libs/index.pyx\u001b[0m in \u001b[0;36mpandas._libs.index.IndexEngine.get_value\u001b[0;34m()\u001b[0m\n",
      "\u001b[0;32mpandas/_libs/index.pyx\u001b[0m in \u001b[0;36mpandas._libs.index.IndexEngine.get_loc\u001b[0;34m()\u001b[0m\n",
      "\u001b[0;32mpandas/_libs/hashtable_class_helper.pxi\u001b[0m in \u001b[0;36mpandas._libs.hashtable.PyObjectHashTable.get_item\u001b[0;34m()\u001b[0m\n",
      "\u001b[0;32mpandas/_libs/hashtable_class_helper.pxi\u001b[0m in \u001b[0;36mpandas._libs.hashtable.PyObjectHashTable.get_item\u001b[0;34m()\u001b[0m\n",
      "\u001b[0;31mKeyError\u001b[0m: ('normalized_score', 'occurred at index 0')"
     ]
    }
   ],
   "source": [
    "USChina_TradeWar_sentiment['Score'] = USChina_TradeWar_sentiment.Score.convert_objects(convert_numeric=True)\n",
    "max_score = USChina_TradeWar_sentiment['Score'].max()\n",
    "min_score = USChina_TradeWar_sentiment['Score'].min()\n",
    "\n",
    "Boeing_sentiment['normalized_score'] = USChina_TradeWar_sentiment.apply(\n",
    "lambda x: (x['Score'] - min_score)/(max_score-min_score), axis=1)\n",
    "\n",
    "def positive_or_negative(x):\n",
    "    if x > 0.5:\n",
    "        return 'postive'\n",
    "    elif x < 0.5:\n",
    "        return 'negative'\n",
    "    elif x == 0.5:\n",
    "        return 'neutral'\n",
    "\n",
    "USChina_TradeWar_sentiment['normalized_pos_neg'] = USChina_TradeWar_sentiment.apply(\n",
    "lambda x: positive_or_negative(x['normalized_score']) , axis=1)\n",
    "USChina_TradeWar_sentiment['normalized_score'].mean()\n",
    "\n",
    "pos_USChina_TradeWar_sentiment = USChina_TradeWar_sentiment[USChina_TradeWar_sentiment['normalized_pos_neg'] == 'positive']\n",
    "neg_USChina_TradeWar_sentiment = USChina_TradeWar_sentiment[USChina_TradeWar_sentiment['normalized_pos_neg'] == 'negative']\n",
    "pos_USChina_TradeWar_sentiment.to_csv('../sentiment_split/pos_USChina_TradeWar_sentiment.csv',encoding='utf-8-sig', index=False)\n",
    "neg_USChina_TradeWar_sentiment.to_csv('../sentiment_split/neg_USChina_TradeWar_sentiment.csv',encoding='utf-8-sig', index=False)"
   ]
  },
  {
   "cell_type": "code",
   "execution_count": null,
   "metadata": {},
   "outputs": [],
   "source": []
  }
 ],
 "metadata": {
  "kernelspec": {
   "display_name": "Python 3",
   "language": "python",
   "name": "python3"
  },
  "language_info": {
   "codemirror_mode": {
    "name": "ipython",
    "version": 3
   },
   "file_extension": ".py",
   "mimetype": "text/x-python",
   "name": "python",
   "nbconvert_exporter": "python",
   "pygments_lexer": "ipython3",
   "version": "3.7.3"
  }
 },
 "nbformat": 4,
 "nbformat_minor": 2
}
