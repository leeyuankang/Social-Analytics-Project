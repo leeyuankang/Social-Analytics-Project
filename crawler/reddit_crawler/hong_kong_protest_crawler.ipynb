{
 "cells": [
  {
   "cell_type": "markdown",
   "metadata": {},
   "source": [
    "Reddit Crawler\n",
    "\n",
    "This script connect to Reddit API and crawls posts based on search terms.\n",
    "\n",
    "Ref: http://www.storybench.org/how-to-scrape-reddit-with-python/"
   ]
  },
  {
   "cell_type": "code",
   "execution_count": 1,
   "metadata": {},
   "outputs": [],
   "source": [
    "import praw\n",
    "import pandas as pd\n",
    "import datetime as dt\n",
    "import pprint\n",
    "from praw.models import MoreComments"
   ]
  },
  {
   "cell_type": "code",
   "execution_count": 2,
   "metadata": {},
   "outputs": [],
   "source": [
    "'''\n",
    "Getting Reddit and subreddit instances\n",
    "\n",
    "PRAW stands for Python Reddit API Wrapper.\n",
    "\n",
    "First, we connect to Reddit by calling the praw.Reddit function and storing it in a variable.\n",
    "\n",
    "I’m calling mine reddit. You should pass the following arguments to that function:\n",
    "'''\n",
    "\n",
    "# Change to your own credentials\n",
    "\n",
    "reddit = praw.Reddit(client_id='24_YVEW5uih-fQ', \\\n",
    "                     client_secret='M_SFNkPu6aNsmGsvpWMjhhnJtcA', \\\n",
    "                     user_agent='IS434_Darren_Tan', \\\n",
    "                     username='darrentyh', \\\n",
    "                     password='IS434_SA')"
   ]
  },
  {
   "cell_type": "code",
   "execution_count": 3,
   "metadata": {},
   "outputs": [],
   "source": [
    "'''\n",
    "From that, we use the same logic to get to the subreddit we want and \n",
    "call the .subreddit instance from reddit and pass it the name of the subreddit we want to access.\n",
    "\n",
    "It can be found after “r/” in the subreddit’s URL. I’m going to use r/worldnews\n",
    "To access the r/worldnews subreddit\n",
    "'''\n",
    "subreddit = reddit.subreddit('worldnews')"
   ]
  },
  {
   "cell_type": "code",
   "execution_count": 4,
   "metadata": {},
   "outputs": [],
   "source": [
    "# Reddit’s request limit* is 1000\n",
    "\n",
    "'''\n",
    "Parsing and downloading the data\n",
    "\n",
    "We are right now really close to getting the data in our hands.\n",
    "Our top_subreddit object has methods to return all kinds of information from each submission.\n",
    "You can check it for yourself with these simple two lines:\n",
    "'''\n",
    "\n",
    "# Search for \"hong kong protest in wordnews subreddit\"\n",
    "# Change the keyword\n",
    "\n",
    "post_id_list = []\n",
    "\n",
    "# include date\n",
    "for i in subreddit.search('hong kong protest', limit = None):\n",
    "    post_id_list.append(str(i))"
   ]
  },
  {
   "cell_type": "code",
   "execution_count": 5,
   "metadata": {},
   "outputs": [
    {
     "name": "stdout",
     "output_type": "stream",
     "text": [
      "Title:  Jackie Chan sparks outcry after weighing into Hong Kong protests \n",
      "\n",
      "Number of comments:  301 \n",
      "\n"
     ]
    }
   ],
   "source": [
    "# Supplying one post id to reddit.submission and retrieve the title and number of comments\n",
    "\n",
    "# assume you have a Reddit instance bound to variable `reddit`\n",
    "# submission = reddit.submission(id = 'cr36c3 ')\n",
    "# print(\"Title: \", submission.title, \"\\n\")\n",
    "# print(\"Number of comments: \", submission.num_comments, \"\\n\")\n",
    "# pprint.pprint(vars(submission))"
   ]
  },
  {
   "cell_type": "markdown",
   "metadata": {},
   "source": [
    "### Loop through post_id_list and retrieve all the comments in each post"
   ]
  },
  {
   "cell_type": "code",
   "execution_count": 6,
   "metadata": {},
   "outputs": [],
   "source": [
    "# post_id_list_test = post_id_list[0:2]\n",
    "\n",
    "comments_dict = {\"comments\": []}\n",
    "\n",
    "for post_id in post_id_list:\n",
    "    submission_id = reddit.submission(id = post_id)\n",
    "    submission.comments.replace_more(limit = None)    \n",
    "    for comment in submission.comments.list():\n",
    "        comments_dict[\"comments\"].append(comment.body)"
   ]
  },
  {
   "cell_type": "code",
   "execution_count": 7,
   "metadata": {},
   "outputs": [],
   "source": [
    "data = pd.DataFrame(comments_dict)"
   ]
  },
  {
   "cell_type": "code",
   "execution_count": 8,
   "metadata": {},
   "outputs": [
    {
     "data": {
      "text/html": [
       "<div>\n",
       "<style scoped>\n",
       "    .dataframe tbody tr th:only-of-type {\n",
       "        vertical-align: middle;\n",
       "    }\n",
       "\n",
       "    .dataframe tbody tr th {\n",
       "        vertical-align: top;\n",
       "    }\n",
       "\n",
       "    .dataframe thead th {\n",
       "        text-align: right;\n",
       "    }\n",
       "</style>\n",
       "<table border=\"1\" class=\"dataframe\">\n",
       "  <thead>\n",
       "    <tr style=\"text-align: right;\">\n",
       "      <th></th>\n",
       "      <th>comments</th>\n",
       "    </tr>\n",
       "  </thead>\n",
       "  <tbody>\n",
       "    <tr>\n",
       "      <td>0</td>\n",
       "      <td>Users often report submissions from this site ...</td>\n",
       "    </tr>\n",
       "    <tr>\n",
       "      <td>1</td>\n",
       "      <td>&gt;“The authorities should stipulate what issues...</td>\n",
       "    </tr>\n",
       "    <tr>\n",
       "      <td>2</td>\n",
       "      <td>He's a well known Chinese nationalist, this sh...</td>\n",
       "    </tr>\n",
       "    <tr>\n",
       "      <td>3</td>\n",
       "      <td>This is the best tl;dr I could make, [original...</td>\n",
       "    </tr>\n",
       "    <tr>\n",
       "      <td>4</td>\n",
       "      <td>&gt;When you see the name Jackie Chan you know yo...</td>\n",
       "    </tr>\n",
       "    <tr>\n",
       "      <td>...</td>\n",
       "      <td>...</td>\n",
       "    </tr>\n",
       "    <tr>\n",
       "      <td>593</td>\n",
       "      <td>The \"I'm just bored\" is such a dead horse for ...</td>\n",
       "    </tr>\n",
       "    <tr>\n",
       "      <td>594</td>\n",
       "      <td>I don't to refute. I don't care. I just think ...</td>\n",
       "    </tr>\n",
       "    <tr>\n",
       "      <td>595</td>\n",
       "      <td>Probably because it has real world consequence...</td>\n",
       "    </tr>\n",
       "    <tr>\n",
       "      <td>596</td>\n",
       "      <td>A celebrity supporting their country.</td>\n",
       "    </tr>\n",
       "    <tr>\n",
       "      <td>597</td>\n",
       "      <td>Supporting the violent actions of their country</td>\n",
       "    </tr>\n",
       "  </tbody>\n",
       "</table>\n",
       "<p>598 rows × 1 columns</p>\n",
       "</div>"
      ],
      "text/plain": [
       "                                              comments\n",
       "0    Users often report submissions from this site ...\n",
       "1    >“The authorities should stipulate what issues...\n",
       "2    He's a well known Chinese nationalist, this sh...\n",
       "3    This is the best tl;dr I could make, [original...\n",
       "4    >When you see the name Jackie Chan you know yo...\n",
       "..                                                 ...\n",
       "593  The \"I'm just bored\" is such a dead horse for ...\n",
       "594  I don't to refute. I don't care. I just think ...\n",
       "595  Probably because it has real world consequence...\n",
       "596              A celebrity supporting their country.\n",
       "597    Supporting the violent actions of their country\n",
       "\n",
       "[598 rows x 1 columns]"
      ]
     },
     "execution_count": 8,
     "metadata": {},
     "output_type": "execute_result"
    }
   ],
   "source": [
    "data"
   ]
  },
  {
   "cell_type": "code",
   "execution_count": 9,
   "metadata": {},
   "outputs": [],
   "source": [
    "data.to_csv('hong_kong_protest.csv', index=False, encoding = \"utf-8-sig\") "
   ]
  }
 ],
 "metadata": {
  "kernelspec": {
   "display_name": "Python 3",
   "language": "python",
   "name": "python3"
  },
  "language_info": {
   "codemirror_mode": {
    "name": "ipython",
    "version": 3
   },
   "file_extension": ".py",
   "mimetype": "text/x-python",
   "name": "python",
   "nbconvert_exporter": "python",
   "pygments_lexer": "ipython3",
   "version": "3.7.3"
  }
 },
 "nbformat": 4,
 "nbformat_minor": 2
}
